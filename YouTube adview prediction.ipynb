{
  "nbformat": 4,
  "nbformat_minor": 0,
  "metadata": {
    "colab": {
      "name": "Final_Project.ipynb",
      "provenance": []
    },
    "kernelspec": {
      "name": "python3",
      "display_name": "Python 3"
    }
  },
  "cells": [
    {
      "cell_type": "code",
      "metadata": {
        "id": "NoHbx4HbN-b0"
      },
      "source": [
        "import numpy as np\n",
        "import pandas as pd\n",
        "import matplotlib.pyplot as plt"
      ],
      "execution_count": 262,
      "outputs": []
    },
    {
      "cell_type": "code",
      "metadata": {
        "id": "w9VImLGWPVii",
        "outputId": "99787372-b07c-430c-959c-bf1868cbddee",
        "colab": {
          "base_uri": "https://localhost:8080/",
          "height": 50
        }
      },
      "source": [
        "data_train=pd.DataFrame(pd.read_csv(\"/content/train.csv\"))\n",
        "data_test=pd.DataFrame(pd.read_csv(\"/content/test.csv\"))\n",
        "print(data_train.shape)\n",
        "print(data_test.shape)"
      ],
      "execution_count": 263,
      "outputs": [
        {
          "output_type": "stream",
          "text": [
            "(14999, 9)\n",
            "(8764, 8)\n"
          ],
          "name": "stdout"
        }
      ]
    },
    {
      "cell_type": "code",
      "metadata": {
        "id": "leDTzYlLyLmQ",
        "outputId": "495602b7-7f82-4e64-feaf-daa6120b204a",
        "colab": {
          "base_uri": "https://localhost:8080/",
          "height": 195
        }
      },
      "source": [
        "data_train.head()"
      ],
      "execution_count": 264,
      "outputs": [
        {
          "output_type": "execute_result",
          "data": {
            "text/html": [
              "<div>\n",
              "<style scoped>\n",
              "    .dataframe tbody tr th:only-of-type {\n",
              "        vertical-align: middle;\n",
              "    }\n",
              "\n",
              "    .dataframe tbody tr th {\n",
              "        vertical-align: top;\n",
              "    }\n",
              "\n",
              "    .dataframe thead th {\n",
              "        text-align: right;\n",
              "    }\n",
              "</style>\n",
              "<table border=\"1\" class=\"dataframe\">\n",
              "  <thead>\n",
              "    <tr style=\"text-align: right;\">\n",
              "      <th></th>\n",
              "      <th>vidid</th>\n",
              "      <th>adview</th>\n",
              "      <th>views</th>\n",
              "      <th>likes</th>\n",
              "      <th>dislikes</th>\n",
              "      <th>comment</th>\n",
              "      <th>published</th>\n",
              "      <th>duration</th>\n",
              "      <th>category</th>\n",
              "    </tr>\n",
              "  </thead>\n",
              "  <tbody>\n",
              "    <tr>\n",
              "      <th>0</th>\n",
              "      <td>VID_18655</td>\n",
              "      <td>40</td>\n",
              "      <td>1031602</td>\n",
              "      <td>8523</td>\n",
              "      <td>363</td>\n",
              "      <td>1095</td>\n",
              "      <td>2016-09-14</td>\n",
              "      <td>PT7M37S</td>\n",
              "      <td>F</td>\n",
              "    </tr>\n",
              "    <tr>\n",
              "      <th>1</th>\n",
              "      <td>VID_14135</td>\n",
              "      <td>2</td>\n",
              "      <td>1707</td>\n",
              "      <td>56</td>\n",
              "      <td>2</td>\n",
              "      <td>6</td>\n",
              "      <td>2016-10-01</td>\n",
              "      <td>PT9M30S</td>\n",
              "      <td>D</td>\n",
              "    </tr>\n",
              "    <tr>\n",
              "      <th>2</th>\n",
              "      <td>VID_2187</td>\n",
              "      <td>1</td>\n",
              "      <td>2023</td>\n",
              "      <td>25</td>\n",
              "      <td>0</td>\n",
              "      <td>2</td>\n",
              "      <td>2016-07-02</td>\n",
              "      <td>PT2M16S</td>\n",
              "      <td>C</td>\n",
              "    </tr>\n",
              "    <tr>\n",
              "      <th>3</th>\n",
              "      <td>VID_23096</td>\n",
              "      <td>6</td>\n",
              "      <td>620860</td>\n",
              "      <td>777</td>\n",
              "      <td>161</td>\n",
              "      <td>153</td>\n",
              "      <td>2016-07-27</td>\n",
              "      <td>PT4M22S</td>\n",
              "      <td>H</td>\n",
              "    </tr>\n",
              "    <tr>\n",
              "      <th>4</th>\n",
              "      <td>VID_10175</td>\n",
              "      <td>1</td>\n",
              "      <td>666</td>\n",
              "      <td>1</td>\n",
              "      <td>0</td>\n",
              "      <td>0</td>\n",
              "      <td>2016-06-29</td>\n",
              "      <td>PT31S</td>\n",
              "      <td>D</td>\n",
              "    </tr>\n",
              "  </tbody>\n",
              "</table>\n",
              "</div>"
            ],
            "text/plain": [
              "       vidid  adview    views likes  ... comment   published duration category\n",
              "0  VID_18655      40  1031602  8523  ...    1095  2016-09-14  PT7M37S        F\n",
              "1  VID_14135       2     1707    56  ...       6  2016-10-01  PT9M30S        D\n",
              "2   VID_2187       1     2023    25  ...       2  2016-07-02  PT2M16S        C\n",
              "3  VID_23096       6   620860   777  ...     153  2016-07-27  PT4M22S        H\n",
              "4  VID_10175       1      666     1  ...       0  2016-06-29    PT31S        D\n",
              "\n",
              "[5 rows x 9 columns]"
            ]
          },
          "metadata": {
            "tags": []
          },
          "execution_count": 264
        }
      ]
    },
    {
      "cell_type": "code",
      "metadata": {
        "id": "djg85LquyOJc",
        "outputId": "e3ebe1a0-312b-4c35-e815-2c857185a1ce",
        "colab": {
          "base_uri": "https://localhost:8080/",
          "height": 195
        }
      },
      "source": [
        "data_test.head()"
      ],
      "execution_count": 265,
      "outputs": [
        {
          "output_type": "execute_result",
          "data": {
            "text/html": [
              "<div>\n",
              "<style scoped>\n",
              "    .dataframe tbody tr th:only-of-type {\n",
              "        vertical-align: middle;\n",
              "    }\n",
              "\n",
              "    .dataframe tbody tr th {\n",
              "        vertical-align: top;\n",
              "    }\n",
              "\n",
              "    .dataframe thead th {\n",
              "        text-align: right;\n",
              "    }\n",
              "</style>\n",
              "<table border=\"1\" class=\"dataframe\">\n",
              "  <thead>\n",
              "    <tr style=\"text-align: right;\">\n",
              "      <th></th>\n",
              "      <th>vidid</th>\n",
              "      <th>views</th>\n",
              "      <th>likes</th>\n",
              "      <th>dislikes</th>\n",
              "      <th>comment</th>\n",
              "      <th>published</th>\n",
              "      <th>duration</th>\n",
              "      <th>category</th>\n",
              "    </tr>\n",
              "  </thead>\n",
              "  <tbody>\n",
              "    <tr>\n",
              "      <th>0</th>\n",
              "      <td>VID_1054</td>\n",
              "      <td>440238</td>\n",
              "      <td>6153</td>\n",
              "      <td>218</td>\n",
              "      <td>1377</td>\n",
              "      <td>2017-02-18</td>\n",
              "      <td>PT7M29S</td>\n",
              "      <td>B</td>\n",
              "    </tr>\n",
              "    <tr>\n",
              "      <th>1</th>\n",
              "      <td>VID_18629</td>\n",
              "      <td>1040132</td>\n",
              "      <td>8171</td>\n",
              "      <td>340</td>\n",
              "      <td>1047</td>\n",
              "      <td>2016-06-28</td>\n",
              "      <td>PT6M29S</td>\n",
              "      <td>F</td>\n",
              "    </tr>\n",
              "    <tr>\n",
              "      <th>2</th>\n",
              "      <td>VID_13967</td>\n",
              "      <td>28534</td>\n",
              "      <td>31</td>\n",
              "      <td>11</td>\n",
              "      <td>1</td>\n",
              "      <td>2014-03-10</td>\n",
              "      <td>PT37M54S</td>\n",
              "      <td>D</td>\n",
              "    </tr>\n",
              "    <tr>\n",
              "      <th>3</th>\n",
              "      <td>VID_19442</td>\n",
              "      <td>1316715</td>\n",
              "      <td>2284</td>\n",
              "      <td>250</td>\n",
              "      <td>274</td>\n",
              "      <td>2010-06-05</td>\n",
              "      <td>PT9M55S</td>\n",
              "      <td>G</td>\n",
              "    </tr>\n",
              "    <tr>\n",
              "      <th>4</th>\n",
              "      <td>VID_770</td>\n",
              "      <td>1893173</td>\n",
              "      <td>2519</td>\n",
              "      <td>225</td>\n",
              "      <td>116</td>\n",
              "      <td>2016-09-03</td>\n",
              "      <td>PT3M8S</td>\n",
              "      <td>B</td>\n",
              "    </tr>\n",
              "  </tbody>\n",
              "</table>\n",
              "</div>"
            ],
            "text/plain": [
              "       vidid    views likes dislikes comment   published  duration category\n",
              "0   VID_1054   440238  6153      218    1377  2017-02-18   PT7M29S        B\n",
              "1  VID_18629  1040132  8171      340    1047  2016-06-28   PT6M29S        F\n",
              "2  VID_13967    28534    31       11       1  2014-03-10  PT37M54S        D\n",
              "3  VID_19442  1316715  2284      250     274  2010-06-05   PT9M55S        G\n",
              "4    VID_770  1893173  2519      225     116  2016-09-03    PT3M8S        B"
            ]
          },
          "metadata": {
            "tags": []
          },
          "execution_count": 265
        }
      ]
    },
    {
      "cell_type": "code",
      "metadata": {
        "id": "YOi6dzsWgez0",
        "outputId": "e77d9831-cdee-4eef-f49a-a0ec32b88392",
        "colab": {
          "base_uri": "https://localhost:8080/",
          "height": 195
        }
      },
      "source": [
        "category={'A':1,'B':2,'C':3,'D':4,'E':5,'F':6,'G':7,'H':8}\n",
        "data_train[\"category\"]=data_train[\"category\"].map(category)\n",
        "data_test[\"category\"]=data_test[\"category\"].map(category)\n",
        "data_train.head()\n"
      ],
      "execution_count": 266,
      "outputs": [
        {
          "output_type": "execute_result",
          "data": {
            "text/html": [
              "<div>\n",
              "<style scoped>\n",
              "    .dataframe tbody tr th:only-of-type {\n",
              "        vertical-align: middle;\n",
              "    }\n",
              "\n",
              "    .dataframe tbody tr th {\n",
              "        vertical-align: top;\n",
              "    }\n",
              "\n",
              "    .dataframe thead th {\n",
              "        text-align: right;\n",
              "    }\n",
              "</style>\n",
              "<table border=\"1\" class=\"dataframe\">\n",
              "  <thead>\n",
              "    <tr style=\"text-align: right;\">\n",
              "      <th></th>\n",
              "      <th>vidid</th>\n",
              "      <th>adview</th>\n",
              "      <th>views</th>\n",
              "      <th>likes</th>\n",
              "      <th>dislikes</th>\n",
              "      <th>comment</th>\n",
              "      <th>published</th>\n",
              "      <th>duration</th>\n",
              "      <th>category</th>\n",
              "    </tr>\n",
              "  </thead>\n",
              "  <tbody>\n",
              "    <tr>\n",
              "      <th>0</th>\n",
              "      <td>VID_18655</td>\n",
              "      <td>40</td>\n",
              "      <td>1031602</td>\n",
              "      <td>8523</td>\n",
              "      <td>363</td>\n",
              "      <td>1095</td>\n",
              "      <td>2016-09-14</td>\n",
              "      <td>PT7M37S</td>\n",
              "      <td>6</td>\n",
              "    </tr>\n",
              "    <tr>\n",
              "      <th>1</th>\n",
              "      <td>VID_14135</td>\n",
              "      <td>2</td>\n",
              "      <td>1707</td>\n",
              "      <td>56</td>\n",
              "      <td>2</td>\n",
              "      <td>6</td>\n",
              "      <td>2016-10-01</td>\n",
              "      <td>PT9M30S</td>\n",
              "      <td>4</td>\n",
              "    </tr>\n",
              "    <tr>\n",
              "      <th>2</th>\n",
              "      <td>VID_2187</td>\n",
              "      <td>1</td>\n",
              "      <td>2023</td>\n",
              "      <td>25</td>\n",
              "      <td>0</td>\n",
              "      <td>2</td>\n",
              "      <td>2016-07-02</td>\n",
              "      <td>PT2M16S</td>\n",
              "      <td>3</td>\n",
              "    </tr>\n",
              "    <tr>\n",
              "      <th>3</th>\n",
              "      <td>VID_23096</td>\n",
              "      <td>6</td>\n",
              "      <td>620860</td>\n",
              "      <td>777</td>\n",
              "      <td>161</td>\n",
              "      <td>153</td>\n",
              "      <td>2016-07-27</td>\n",
              "      <td>PT4M22S</td>\n",
              "      <td>8</td>\n",
              "    </tr>\n",
              "    <tr>\n",
              "      <th>4</th>\n",
              "      <td>VID_10175</td>\n",
              "      <td>1</td>\n",
              "      <td>666</td>\n",
              "      <td>1</td>\n",
              "      <td>0</td>\n",
              "      <td>0</td>\n",
              "      <td>2016-06-29</td>\n",
              "      <td>PT31S</td>\n",
              "      <td>4</td>\n",
              "    </tr>\n",
              "  </tbody>\n",
              "</table>\n",
              "</div>"
            ],
            "text/plain": [
              "       vidid  adview    views likes  ... comment   published duration category\n",
              "0  VID_18655      40  1031602  8523  ...    1095  2016-09-14  PT7M37S        6\n",
              "1  VID_14135       2     1707    56  ...       6  2016-10-01  PT9M30S        4\n",
              "2   VID_2187       1     2023    25  ...       2  2016-07-02  PT2M16S        3\n",
              "3  VID_23096       6   620860   777  ...     153  2016-07-27  PT4M22S        8\n",
              "4  VID_10175       1      666     1  ...       0  2016-06-29    PT31S        4\n",
              "\n",
              "[5 rows x 9 columns]"
            ]
          },
          "metadata": {
            "tags": []
          },
          "execution_count": 266
        }
      ]
    },
    {
      "cell_type": "code",
      "metadata": {
        "id": "XY6z9_0RhJ2Q"
      },
      "source": [
        "data_train=data_train[data_train.views!='F']\n",
        "data_train=data_train[data_train.likes!='F']\n",
        "data_train=data_train[data_train.dislikes!='F']\n",
        "data_train=data_train[data_train.comment!='F']"
      ],
      "execution_count": 267,
      "outputs": []
    },
    {
      "cell_type": "code",
      "metadata": {
        "id": "qbl3t8il7Lji"
      },
      "source": [
        "data_test=data_test[data_test.views!='F']\n",
        "data_test=data_test[data_test.likes!='F']\n",
        "data_test=data_test[data_test.dislikes!='F']\n",
        "data_test=data_test[data_test.comment!='F']"
      ],
      "execution_count": 268,
      "outputs": []
    },
    {
      "cell_type": "code",
      "metadata": {
        "id": "z8t30MSUiy7x"
      },
      "source": [
        "data_train['views']=pd.to_numeric(data_train['views'])\n",
        "data_train['likes']=pd.to_numeric(data_train['likes'])\n",
        "data_train['dislikes']=pd.to_numeric(data_train['dislikes'])\n",
        "data_train['adview']=pd.to_numeric(data_train['adview'])"
      ],
      "execution_count": 269,
      "outputs": []
    },
    {
      "cell_type": "code",
      "metadata": {
        "id": "Ma0MHQkHEiRv"
      },
      "source": [
        "data_test['views']=pd.to_numeric(data_test['views'])\n",
        "data_test['likes']=pd.to_numeric(data_test['likes'])\n",
        "data_test['dislikes']=pd.to_numeric(data_test['dislikes'])"
      ],
      "execution_count": 270,
      "outputs": []
    },
    {
      "cell_type": "code",
      "metadata": {
        "id": "0nNLAatIenTN"
      },
      "source": [
        "from sklearn.preprocessing import LabelEncoder\n",
        "data_train['vidid']=LabelEncoder().fit_transform(data_train['vidid'])\n",
        "data_train['published']=LabelEncoder().fit_transform(data_train['published'])"
      ],
      "execution_count": 271,
      "outputs": []
    },
    {
      "cell_type": "code",
      "metadata": {
        "id": "ywjyYHlx7giU"
      },
      "source": [
        "data_test['vidid']=LabelEncoder().fit_transform(data_test['vidid'])\n",
        "data_test['published']=LabelEncoder().fit_transform(data_test['published'])"
      ],
      "execution_count": 272,
      "outputs": []
    },
    {
      "cell_type": "code",
      "metadata": {
        "id": "2HIMAPLdggXU",
        "outputId": "1d5763bb-b51d-4cb2-c082-371c434d8c8a",
        "colab": {
          "base_uri": "https://localhost:8080/",
          "height": 195
        }
      },
      "source": [
        "data_train.head()"
      ],
      "execution_count": 273,
      "outputs": [
        {
          "output_type": "execute_result",
          "data": {
            "text/html": [
              "<div>\n",
              "<style scoped>\n",
              "    .dataframe tbody tr th:only-of-type {\n",
              "        vertical-align: middle;\n",
              "    }\n",
              "\n",
              "    .dataframe tbody tr th {\n",
              "        vertical-align: top;\n",
              "    }\n",
              "\n",
              "    .dataframe thead th {\n",
              "        text-align: right;\n",
              "    }\n",
              "</style>\n",
              "<table border=\"1\" class=\"dataframe\">\n",
              "  <thead>\n",
              "    <tr style=\"text-align: right;\">\n",
              "      <th></th>\n",
              "      <th>vidid</th>\n",
              "      <th>adview</th>\n",
              "      <th>views</th>\n",
              "      <th>likes</th>\n",
              "      <th>dislikes</th>\n",
              "      <th>comment</th>\n",
              "      <th>published</th>\n",
              "      <th>duration</th>\n",
              "      <th>category</th>\n",
              "    </tr>\n",
              "  </thead>\n",
              "  <tbody>\n",
              "    <tr>\n",
              "      <th>0</th>\n",
              "      <td>5912</td>\n",
              "      <td>40</td>\n",
              "      <td>1031602</td>\n",
              "      <td>8523</td>\n",
              "      <td>363</td>\n",
              "      <td>1095</td>\n",
              "      <td>2168</td>\n",
              "      <td>PT7M37S</td>\n",
              "      <td>6</td>\n",
              "    </tr>\n",
              "    <tr>\n",
              "      <th>1</th>\n",
              "      <td>2741</td>\n",
              "      <td>2</td>\n",
              "      <td>1707</td>\n",
              "      <td>56</td>\n",
              "      <td>2</td>\n",
              "      <td>6</td>\n",
              "      <td>2185</td>\n",
              "      <td>PT9M30S</td>\n",
              "      <td>4</td>\n",
              "    </tr>\n",
              "    <tr>\n",
              "      <th>2</th>\n",
              "      <td>8138</td>\n",
              "      <td>1</td>\n",
              "      <td>2023</td>\n",
              "      <td>25</td>\n",
              "      <td>0</td>\n",
              "      <td>2</td>\n",
              "      <td>2094</td>\n",
              "      <td>PT2M16S</td>\n",
              "      <td>3</td>\n",
              "    </tr>\n",
              "    <tr>\n",
              "      <th>3</th>\n",
              "      <td>9005</td>\n",
              "      <td>6</td>\n",
              "      <td>620860</td>\n",
              "      <td>777</td>\n",
              "      <td>161</td>\n",
              "      <td>153</td>\n",
              "      <td>2119</td>\n",
              "      <td>PT4M22S</td>\n",
              "      <td>8</td>\n",
              "    </tr>\n",
              "    <tr>\n",
              "      <th>4</th>\n",
              "      <td>122</td>\n",
              "      <td>1</td>\n",
              "      <td>666</td>\n",
              "      <td>1</td>\n",
              "      <td>0</td>\n",
              "      <td>0</td>\n",
              "      <td>2091</td>\n",
              "      <td>PT31S</td>\n",
              "      <td>4</td>\n",
              "    </tr>\n",
              "  </tbody>\n",
              "</table>\n",
              "</div>"
            ],
            "text/plain": [
              "   vidid  adview    views  likes  ...  comment published  duration category\n",
              "0   5912      40  1031602   8523  ...     1095      2168   PT7M37S        6\n",
              "1   2741       2     1707     56  ...        6      2185   PT9M30S        4\n",
              "2   8138       1     2023     25  ...        2      2094   PT2M16S        3\n",
              "3   9005       6   620860    777  ...      153      2119   PT4M22S        8\n",
              "4    122       1      666      1  ...        0      2091     PT31S        4\n",
              "\n",
              "[5 rows x 9 columns]"
            ]
          },
          "metadata": {
            "tags": []
          },
          "execution_count": 273
        }
      ]
    },
    {
      "cell_type": "code",
      "metadata": {
        "id": "SUEhPCvc7q76",
        "outputId": "17bb07da-e599-4707-d567-5191411e7c6b",
        "colab": {
          "base_uri": "https://localhost:8080/",
          "height": 195
        }
      },
      "source": [
        "data_test.head()"
      ],
      "execution_count": 274,
      "outputs": [
        {
          "output_type": "execute_result",
          "data": {
            "text/html": [
              "<div>\n",
              "<style scoped>\n",
              "    .dataframe tbody tr th:only-of-type {\n",
              "        vertical-align: middle;\n",
              "    }\n",
              "\n",
              "    .dataframe tbody tr th {\n",
              "        vertical-align: top;\n",
              "    }\n",
              "\n",
              "    .dataframe thead th {\n",
              "        text-align: right;\n",
              "    }\n",
              "</style>\n",
              "<table border=\"1\" class=\"dataframe\">\n",
              "  <thead>\n",
              "    <tr style=\"text-align: right;\">\n",
              "      <th></th>\n",
              "      <th>vidid</th>\n",
              "      <th>views</th>\n",
              "      <th>likes</th>\n",
              "      <th>dislikes</th>\n",
              "      <th>comment</th>\n",
              "      <th>published</th>\n",
              "      <th>duration</th>\n",
              "      <th>category</th>\n",
              "    </tr>\n",
              "  </thead>\n",
              "  <tbody>\n",
              "    <tr>\n",
              "      <th>0</th>\n",
              "      <td>231</td>\n",
              "      <td>440238</td>\n",
              "      <td>6153</td>\n",
              "      <td>218</td>\n",
              "      <td>1377</td>\n",
              "      <td>2053</td>\n",
              "      <td>PT7M29S</td>\n",
              "      <td>2</td>\n",
              "    </tr>\n",
              "    <tr>\n",
              "      <th>1</th>\n",
              "      <td>3444</td>\n",
              "      <td>1040132</td>\n",
              "      <td>8171</td>\n",
              "      <td>340</td>\n",
              "      <td>1047</td>\n",
              "      <td>1825</td>\n",
              "      <td>PT6M29S</td>\n",
              "      <td>6</td>\n",
              "    </tr>\n",
              "    <tr>\n",
              "      <th>2</th>\n",
              "      <td>1593</td>\n",
              "      <td>28534</td>\n",
              "      <td>31</td>\n",
              "      <td>11</td>\n",
              "      <td>1</td>\n",
              "      <td>1009</td>\n",
              "      <td>PT37M54S</td>\n",
              "      <td>4</td>\n",
              "    </tr>\n",
              "    <tr>\n",
              "      <th>3</th>\n",
              "      <td>3775</td>\n",
              "      <td>1316715</td>\n",
              "      <td>2284</td>\n",
              "      <td>250</td>\n",
              "      <td>274</td>\n",
              "      <td>116</td>\n",
              "      <td>PT9M55S</td>\n",
              "      <td>7</td>\n",
              "    </tr>\n",
              "    <tr>\n",
              "      <th>4</th>\n",
              "      <td>7644</td>\n",
              "      <td>1893173</td>\n",
              "      <td>2519</td>\n",
              "      <td>225</td>\n",
              "      <td>116</td>\n",
              "      <td>1892</td>\n",
              "      <td>PT3M8S</td>\n",
              "      <td>2</td>\n",
              "    </tr>\n",
              "  </tbody>\n",
              "</table>\n",
              "</div>"
            ],
            "text/plain": [
              "   vidid    views  likes  dislikes comment  published  duration  category\n",
              "0    231   440238   6153       218    1377       2053   PT7M29S         2\n",
              "1   3444  1040132   8171       340    1047       1825   PT6M29S         6\n",
              "2   1593    28534     31        11       1       1009  PT37M54S         4\n",
              "3   3775  1316715   2284       250     274        116   PT9M55S         7\n",
              "4   7644  1893173   2519       225     116       1892    PT3M8S         2"
            ]
          },
          "metadata": {
            "tags": []
          },
          "execution_count": 274
        }
      ]
    },
    {
      "cell_type": "code",
      "metadata": {
        "id": "Y4_3Mym6ghNp"
      },
      "source": [
        "import time\n",
        "import datetime"
      ],
      "execution_count": 275,
      "outputs": []
    },
    {
      "cell_type": "code",
      "metadata": {
        "id": "9CETDpG2NDUn"
      },
      "source": [
        "def checki(x):\n",
        "  y = x[2:]\n",
        "  h = ''\n",
        "  m = ''\n",
        "  s = ''\n",
        "  mm = ''\n",
        "  P = ['H','M','S']\n",
        "  for i in y:\n",
        "    if i not in P:\n",
        "      mm+=i\n",
        "    else:\n",
        "      if (i==\"H\"):\n",
        "        h = mm\n",
        "        mm = ''\n",
        "      elif (i == \"M\"):\n",
        "        m = mm\n",
        "        mm = ''\n",
        "      else:\n",
        "        s = mm\n",
        "        mm = ''\n",
        "    if(h==''):\n",
        "      h = '00'\n",
        "    if(m == ''):\n",
        "      m = '00'\n",
        "    if(s==''):\n",
        "      s='00'\n",
        "    bp = h+':'+m+':'+s\n",
        "  return bp\n",
        "train=pd.read_csv(\"/content/train.csv\")\n",
        "test=pd.read_csv(\"/content/test.csv\")\n",
        "mp = pd.read_csv(\"/content/train.csv\")[\"duration\"]\n",
        "mp1 = pd.read_csv(\"/content/test.csv\")[\"duration\"]\n",
        "time_train = mp.apply(checki)\n",
        "time_test = mp1.apply(checki)"
      ],
      "execution_count": 276,
      "outputs": []
    },
    {
      "cell_type": "code",
      "metadata": {
        "id": "IC4YytIKsFVJ",
        "outputId": "c038baf7-7731-4817-c50b-ff0660b61624",
        "colab": {
          "base_uri": "https://localhost:8080/",
          "height": 195
        }
      },
      "source": [
        "def func_sec(time_string):\n",
        "  h, m, s = time_string.split(':')\n",
        "  return int(h) * 3600 + int(m) * 60 + int(s)\n",
        "time1=time_train.apply(func_sec)\n",
        "time2=time_test.apply(func_sec)\n",
        "data_train[\"duration\"]=time1\n",
        "data_test[\"duration\"]=time2\n",
        "data_train.head()"
      ],
      "execution_count": 277,
      "outputs": [
        {
          "output_type": "execute_result",
          "data": {
            "text/html": [
              "<div>\n",
              "<style scoped>\n",
              "    .dataframe tbody tr th:only-of-type {\n",
              "        vertical-align: middle;\n",
              "    }\n",
              "\n",
              "    .dataframe tbody tr th {\n",
              "        vertical-align: top;\n",
              "    }\n",
              "\n",
              "    .dataframe thead th {\n",
              "        text-align: right;\n",
              "    }\n",
              "</style>\n",
              "<table border=\"1\" class=\"dataframe\">\n",
              "  <thead>\n",
              "    <tr style=\"text-align: right;\">\n",
              "      <th></th>\n",
              "      <th>vidid</th>\n",
              "      <th>adview</th>\n",
              "      <th>views</th>\n",
              "      <th>likes</th>\n",
              "      <th>dislikes</th>\n",
              "      <th>comment</th>\n",
              "      <th>published</th>\n",
              "      <th>duration</th>\n",
              "      <th>category</th>\n",
              "    </tr>\n",
              "  </thead>\n",
              "  <tbody>\n",
              "    <tr>\n",
              "      <th>0</th>\n",
              "      <td>5912</td>\n",
              "      <td>40</td>\n",
              "      <td>1031602</td>\n",
              "      <td>8523</td>\n",
              "      <td>363</td>\n",
              "      <td>1095</td>\n",
              "      <td>2168</td>\n",
              "      <td>457</td>\n",
              "      <td>6</td>\n",
              "    </tr>\n",
              "    <tr>\n",
              "      <th>1</th>\n",
              "      <td>2741</td>\n",
              "      <td>2</td>\n",
              "      <td>1707</td>\n",
              "      <td>56</td>\n",
              "      <td>2</td>\n",
              "      <td>6</td>\n",
              "      <td>2185</td>\n",
              "      <td>570</td>\n",
              "      <td>4</td>\n",
              "    </tr>\n",
              "    <tr>\n",
              "      <th>2</th>\n",
              "      <td>8138</td>\n",
              "      <td>1</td>\n",
              "      <td>2023</td>\n",
              "      <td>25</td>\n",
              "      <td>0</td>\n",
              "      <td>2</td>\n",
              "      <td>2094</td>\n",
              "      <td>136</td>\n",
              "      <td>3</td>\n",
              "    </tr>\n",
              "    <tr>\n",
              "      <th>3</th>\n",
              "      <td>9005</td>\n",
              "      <td>6</td>\n",
              "      <td>620860</td>\n",
              "      <td>777</td>\n",
              "      <td>161</td>\n",
              "      <td>153</td>\n",
              "      <td>2119</td>\n",
              "      <td>262</td>\n",
              "      <td>8</td>\n",
              "    </tr>\n",
              "    <tr>\n",
              "      <th>4</th>\n",
              "      <td>122</td>\n",
              "      <td>1</td>\n",
              "      <td>666</td>\n",
              "      <td>1</td>\n",
              "      <td>0</td>\n",
              "      <td>0</td>\n",
              "      <td>2091</td>\n",
              "      <td>31</td>\n",
              "      <td>4</td>\n",
              "    </tr>\n",
              "  </tbody>\n",
              "</table>\n",
              "</div>"
            ],
            "text/plain": [
              "   vidid  adview    views  likes  ...  comment published  duration  category\n",
              "0   5912      40  1031602   8523  ...     1095      2168       457         6\n",
              "1   2741       2     1707     56  ...        6      2185       570         4\n",
              "2   8138       1     2023     25  ...        2      2094       136         3\n",
              "3   9005       6   620860    777  ...      153      2119       262         8\n",
              "4    122       1      666      1  ...        0      2091        31         4\n",
              "\n",
              "[5 rows x 9 columns]"
            ]
          },
          "metadata": {
            "tags": []
          },
          "execution_count": 277
        }
      ]
    },
    {
      "cell_type": "code",
      "metadata": {
        "id": "Vp7sRoC68ueV",
        "outputId": "0b8651fe-79c0-43a3-d8d5-7397921d539d",
        "colab": {
          "base_uri": "https://localhost:8080/",
          "height": 195
        }
      },
      "source": [
        "data_test.head()"
      ],
      "execution_count": 278,
      "outputs": [
        {
          "output_type": "execute_result",
          "data": {
            "text/html": [
              "<div>\n",
              "<style scoped>\n",
              "    .dataframe tbody tr th:only-of-type {\n",
              "        vertical-align: middle;\n",
              "    }\n",
              "\n",
              "    .dataframe tbody tr th {\n",
              "        vertical-align: top;\n",
              "    }\n",
              "\n",
              "    .dataframe thead th {\n",
              "        text-align: right;\n",
              "    }\n",
              "</style>\n",
              "<table border=\"1\" class=\"dataframe\">\n",
              "  <thead>\n",
              "    <tr style=\"text-align: right;\">\n",
              "      <th></th>\n",
              "      <th>vidid</th>\n",
              "      <th>views</th>\n",
              "      <th>likes</th>\n",
              "      <th>dislikes</th>\n",
              "      <th>comment</th>\n",
              "      <th>published</th>\n",
              "      <th>duration</th>\n",
              "      <th>category</th>\n",
              "    </tr>\n",
              "  </thead>\n",
              "  <tbody>\n",
              "    <tr>\n",
              "      <th>0</th>\n",
              "      <td>231</td>\n",
              "      <td>440238</td>\n",
              "      <td>6153</td>\n",
              "      <td>218</td>\n",
              "      <td>1377</td>\n",
              "      <td>2053</td>\n",
              "      <td>449</td>\n",
              "      <td>2</td>\n",
              "    </tr>\n",
              "    <tr>\n",
              "      <th>1</th>\n",
              "      <td>3444</td>\n",
              "      <td>1040132</td>\n",
              "      <td>8171</td>\n",
              "      <td>340</td>\n",
              "      <td>1047</td>\n",
              "      <td>1825</td>\n",
              "      <td>389</td>\n",
              "      <td>6</td>\n",
              "    </tr>\n",
              "    <tr>\n",
              "      <th>2</th>\n",
              "      <td>1593</td>\n",
              "      <td>28534</td>\n",
              "      <td>31</td>\n",
              "      <td>11</td>\n",
              "      <td>1</td>\n",
              "      <td>1009</td>\n",
              "      <td>2274</td>\n",
              "      <td>4</td>\n",
              "    </tr>\n",
              "    <tr>\n",
              "      <th>3</th>\n",
              "      <td>3775</td>\n",
              "      <td>1316715</td>\n",
              "      <td>2284</td>\n",
              "      <td>250</td>\n",
              "      <td>274</td>\n",
              "      <td>116</td>\n",
              "      <td>595</td>\n",
              "      <td>7</td>\n",
              "    </tr>\n",
              "    <tr>\n",
              "      <th>4</th>\n",
              "      <td>7644</td>\n",
              "      <td>1893173</td>\n",
              "      <td>2519</td>\n",
              "      <td>225</td>\n",
              "      <td>116</td>\n",
              "      <td>1892</td>\n",
              "      <td>188</td>\n",
              "      <td>2</td>\n",
              "    </tr>\n",
              "  </tbody>\n",
              "</table>\n",
              "</div>"
            ],
            "text/plain": [
              "   vidid    views  likes  dislikes comment  published  duration  category\n",
              "0    231   440238   6153       218    1377       2053       449         2\n",
              "1   3444  1040132   8171       340    1047       1825       389         6\n",
              "2   1593    28534     31        11       1       1009      2274         4\n",
              "3   3775  1316715   2284       250     274        116       595         7\n",
              "4   7644  1893173   2519       225     116       1892       188         2"
            ]
          },
          "metadata": {
            "tags": []
          },
          "execution_count": 278
        }
      ]
    },
    {
      "cell_type": "code",
      "metadata": {
        "id": "kZYfskhRuKXh",
        "outputId": "0a8937f8-aa77-43e6-cb0c-6a41e42df633",
        "colab": {
          "base_uri": "https://localhost:8080/",
          "height": 526
        }
      },
      "source": [
        "plt.hist(data_train['category'])\n",
        "plt.show()\n",
        "plt.hist(data_train['adview'])\n",
        "plt.show()\n",
        "data_train=data_train[data_train[\"adview\"]<2000000]"
      ],
      "execution_count": 279,
      "outputs": [
        {
          "output_type": "display_data",
          "data": {
            "image/png": "[encoded data removed]",
            "text/plain": [
              "<Figure size 432x288 with 1 Axes>"
            ]
          },
          "metadata": {
            "tags": [],
            "needs_background": "light"
          }
        },
        {
          "output_type": "display_data",
          "data": {
            "image/png": "[encoded data removed]",
            "text/plain": [
              "<Figure size 432x288 with 1 Axes>"
            ]
          },
          "metadata": {
            "tags": [],
            "needs_background": "light"
          }
        }
      ]
    },
    {
      "cell_type": "code",
      "metadata": {
        "id": "Y1A1KQe-uTHS",
        "outputId": "d6b0102c-8df6-4476-f5db-792a92993133",
        "colab": {
          "base_uri": "https://localhost:8080/",
          "height": 487
        }
      },
      "source": [
        "import seaborn as sns\n",
        "f,ax=plt.subplots(figsize=(10,8))\n",
        "corr=data_train.corr()\n",
        "sns.heatmap(corr,mask=np.zeros_like(corr,dtype=np.bool),cmap=sns.diverging_palette(220,10,as_cmap=True),square=True,ax=ax,annot=True)\n",
        "plt.show()"
      ],
      "execution_count": 280,
      "outputs": [
        {
          "output_type": "display_data",
          "data": {
            "image/png": "[encoded data removed]",
            "text/plain": [
              "<Figure size 720x576 with 2 Axes>"
            ]
          },
          "metadata": {
            "tags": [],
            "needs_background": "light"
          }
        }
      ]
    },
    {
      "cell_type": "code",
      "metadata": {
        "id": "JjPi8Ifz9nX0",
        "outputId": "0ff6b419-f88c-4381-a017-6a90c2c90292",
        "colab": {
          "base_uri": "https://localhost:8080/",
          "height": 195
        }
      },
      "source": [
        "data_train.head()"
      ],
      "execution_count": 281,
      "outputs": [
        {
          "output_type": "execute_result",
          "data": {
            "text/html": [
              "<div>\n",
              "<style scoped>\n",
              "    .dataframe tbody tr th:only-of-type {\n",
              "        vertical-align: middle;\n",
              "    }\n",
              "\n",
              "    .dataframe tbody tr th {\n",
              "        vertical-align: top;\n",
              "    }\n",
              "\n",
              "    .dataframe thead th {\n",
              "        text-align: right;\n",
              "    }\n",
              "</style>\n",
              "<table border=\"1\" class=\"dataframe\">\n",
              "  <thead>\n",
              "    <tr style=\"text-align: right;\">\n",
              "      <th></th>\n",
              "      <th>vidid</th>\n",
              "      <th>adview</th>\n",
              "      <th>views</th>\n",
              "      <th>likes</th>\n",
              "      <th>dislikes</th>\n",
              "      <th>comment</th>\n",
              "      <th>published</th>\n",
              "      <th>duration</th>\n",
              "      <th>category</th>\n",
              "    </tr>\n",
              "  </thead>\n",
              "  <tbody>\n",
              "    <tr>\n",
              "      <th>0</th>\n",
              "      <td>5912</td>\n",
              "      <td>40</td>\n",
              "      <td>1031602</td>\n",
              "      <td>8523</td>\n",
              "      <td>363</td>\n",
              "      <td>1095</td>\n",
              "      <td>2168</td>\n",
              "      <td>457</td>\n",
              "      <td>6</td>\n",
              "    </tr>\n",
              "    <tr>\n",
              "      <th>1</th>\n",
              "      <td>2741</td>\n",
              "      <td>2</td>\n",
              "      <td>1707</td>\n",
              "      <td>56</td>\n",
              "      <td>2</td>\n",
              "      <td>6</td>\n",
              "      <td>2185</td>\n",
              "      <td>570</td>\n",
              "      <td>4</td>\n",
              "    </tr>\n",
              "    <tr>\n",
              "      <th>2</th>\n",
              "      <td>8138</td>\n",
              "      <td>1</td>\n",
              "      <td>2023</td>\n",
              "      <td>25</td>\n",
              "      <td>0</td>\n",
              "      <td>2</td>\n",
              "      <td>2094</td>\n",
              "      <td>136</td>\n",
              "      <td>3</td>\n",
              "    </tr>\n",
              "    <tr>\n",
              "      <th>3</th>\n",
              "      <td>9005</td>\n",
              "      <td>6</td>\n",
              "      <td>620860</td>\n",
              "      <td>777</td>\n",
              "      <td>161</td>\n",
              "      <td>153</td>\n",
              "      <td>2119</td>\n",
              "      <td>262</td>\n",
              "      <td>8</td>\n",
              "    </tr>\n",
              "    <tr>\n",
              "      <th>4</th>\n",
              "      <td>122</td>\n",
              "      <td>1</td>\n",
              "      <td>666</td>\n",
              "      <td>1</td>\n",
              "      <td>0</td>\n",
              "      <td>0</td>\n",
              "      <td>2091</td>\n",
              "      <td>31</td>\n",
              "      <td>4</td>\n",
              "    </tr>\n",
              "  </tbody>\n",
              "</table>\n",
              "</div>"
            ],
            "text/plain": [
              "   vidid  adview    views  likes  ...  comment published  duration  category\n",
              "0   5912      40  1031602   8523  ...     1095      2168       457         6\n",
              "1   2741       2     1707     56  ...        6      2185       570         4\n",
              "2   8138       1     2023     25  ...        2      2094       136         3\n",
              "3   9005       6   620860    777  ...      153      2119       262         8\n",
              "4    122       1      666      1  ...        0      2091        31         4\n",
              "\n",
              "[5 rows x 9 columns]"
            ]
          },
          "metadata": {
            "tags": []
          },
          "execution_count": 281
        }
      ]
    },
    {
      "cell_type": "code",
      "metadata": {
        "id": "jVllVwYr9taq",
        "outputId": "9febaa3a-90b1-4c29-e5c6-8c32711dce5d",
        "colab": {
          "base_uri": "https://localhost:8080/",
          "height": 195
        }
      },
      "source": [
        "data_test.head()"
      ],
      "execution_count": 282,
      "outputs": [
        {
          "output_type": "execute_result",
          "data": {
            "text/html": [
              "<div>\n",
              "<style scoped>\n",
              "    .dataframe tbody tr th:only-of-type {\n",
              "        vertical-align: middle;\n",
              "    }\n",
              "\n",
              "    .dataframe tbody tr th {\n",
              "        vertical-align: top;\n",
              "    }\n",
              "\n",
              "    .dataframe thead th {\n",
              "        text-align: right;\n",
              "    }\n",
              "</style>\n",
              "<table border=\"1\" class=\"dataframe\">\n",
              "  <thead>\n",
              "    <tr style=\"text-align: right;\">\n",
              "      <th></th>\n",
              "      <th>vidid</th>\n",
              "      <th>views</th>\n",
              "      <th>likes</th>\n",
              "      <th>dislikes</th>\n",
              "      <th>comment</th>\n",
              "      <th>published</th>\n",
              "      <th>duration</th>\n",
              "      <th>category</th>\n",
              "    </tr>\n",
              "  </thead>\n",
              "  <tbody>\n",
              "    <tr>\n",
              "      <th>0</th>\n",
              "      <td>231</td>\n",
              "      <td>440238</td>\n",
              "      <td>6153</td>\n",
              "      <td>218</td>\n",
              "      <td>1377</td>\n",
              "      <td>2053</td>\n",
              "      <td>449</td>\n",
              "      <td>2</td>\n",
              "    </tr>\n",
              "    <tr>\n",
              "      <th>1</th>\n",
              "      <td>3444</td>\n",
              "      <td>1040132</td>\n",
              "      <td>8171</td>\n",
              "      <td>340</td>\n",
              "      <td>1047</td>\n",
              "      <td>1825</td>\n",
              "      <td>389</td>\n",
              "      <td>6</td>\n",
              "    </tr>\n",
              "    <tr>\n",
              "      <th>2</th>\n",
              "      <td>1593</td>\n",
              "      <td>28534</td>\n",
              "      <td>31</td>\n",
              "      <td>11</td>\n",
              "      <td>1</td>\n",
              "      <td>1009</td>\n",
              "      <td>2274</td>\n",
              "      <td>4</td>\n",
              "    </tr>\n",
              "    <tr>\n",
              "      <th>3</th>\n",
              "      <td>3775</td>\n",
              "      <td>1316715</td>\n",
              "      <td>2284</td>\n",
              "      <td>250</td>\n",
              "      <td>274</td>\n",
              "      <td>116</td>\n",
              "      <td>595</td>\n",
              "      <td>7</td>\n",
              "    </tr>\n",
              "    <tr>\n",
              "      <th>4</th>\n",
              "      <td>7644</td>\n",
              "      <td>1893173</td>\n",
              "      <td>2519</td>\n",
              "      <td>225</td>\n",
              "      <td>116</td>\n",
              "      <td>1892</td>\n",
              "      <td>188</td>\n",
              "      <td>2</td>\n",
              "    </tr>\n",
              "  </tbody>\n",
              "</table>\n",
              "</div>"
            ],
            "text/plain": [
              "   vidid    views  likes  dislikes comment  published  duration  category\n",
              "0    231   440238   6153       218    1377       2053       449         2\n",
              "1   3444  1040132   8171       340    1047       1825       389         6\n",
              "2   1593    28534     31        11       1       1009      2274         4\n",
              "3   3775  1316715   2284       250     274        116       595         7\n",
              "4   7644  1893173   2519       225     116       1892       188         2"
            ]
          },
          "metadata": {
            "tags": []
          },
          "execution_count": 282
        }
      ]
    },
    {
      "cell_type": "code",
      "metadata": {
        "id": "e6ysb7sgvQSY",
        "outputId": "f670224c-864f-47b4-f061-6a4b9051f581",
        "colab": {
          "base_uri": "https://localhost:8080/",
          "height": 195
        }
      },
      "source": [
        "Y_train = pd.DataFrame(data = data_train.iloc[:, 1].values, columns = ['target'])\n",
        "data_train=data_train.drop([\"adview\"],axis=1)\n",
        "data_train=data_train.drop([\"vidid\"],axis=1)\n",
        "data_test=data_test.drop([\"vidid\"],axis=1)\n",
        "data_train.head()\n"
      ],
      "execution_count": 283,
      "outputs": [
        {
          "output_type": "execute_result",
          "data": {
            "text/html": [
              "<div>\n",
              "<style scoped>\n",
              "    .dataframe tbody tr th:only-of-type {\n",
              "        vertical-align: middle;\n",
              "    }\n",
              "\n",
              "    .dataframe tbody tr th {\n",
              "        vertical-align: top;\n",
              "    }\n",
              "\n",
              "    .dataframe thead th {\n",
              "        text-align: right;\n",
              "    }\n",
              "</style>\n",
              "<table border=\"1\" class=\"dataframe\">\n",
              "  <thead>\n",
              "    <tr style=\"text-align: right;\">\n",
              "      <th></th>\n",
              "      <th>views</th>\n",
              "      <th>likes</th>\n",
              "      <th>dislikes</th>\n",
              "      <th>comment</th>\n",
              "      <th>published</th>\n",
              "      <th>duration</th>\n",
              "      <th>category</th>\n",
              "    </tr>\n",
              "  </thead>\n",
              "  <tbody>\n",
              "    <tr>\n",
              "      <th>0</th>\n",
              "      <td>1031602</td>\n",
              "      <td>8523</td>\n",
              "      <td>363</td>\n",
              "      <td>1095</td>\n",
              "      <td>2168</td>\n",
              "      <td>457</td>\n",
              "      <td>6</td>\n",
              "    </tr>\n",
              "    <tr>\n",
              "      <th>1</th>\n",
              "      <td>1707</td>\n",
              "      <td>56</td>\n",
              "      <td>2</td>\n",
              "      <td>6</td>\n",
              "      <td>2185</td>\n",
              "      <td>570</td>\n",
              "      <td>4</td>\n",
              "    </tr>\n",
              "    <tr>\n",
              "      <th>2</th>\n",
              "      <td>2023</td>\n",
              "      <td>25</td>\n",
              "      <td>0</td>\n",
              "      <td>2</td>\n",
              "      <td>2094</td>\n",
              "      <td>136</td>\n",
              "      <td>3</td>\n",
              "    </tr>\n",
              "    <tr>\n",
              "      <th>3</th>\n",
              "      <td>620860</td>\n",
              "      <td>777</td>\n",
              "      <td>161</td>\n",
              "      <td>153</td>\n",
              "      <td>2119</td>\n",
              "      <td>262</td>\n",
              "      <td>8</td>\n",
              "    </tr>\n",
              "    <tr>\n",
              "      <th>4</th>\n",
              "      <td>666</td>\n",
              "      <td>1</td>\n",
              "      <td>0</td>\n",
              "      <td>0</td>\n",
              "      <td>2091</td>\n",
              "      <td>31</td>\n",
              "      <td>4</td>\n",
              "    </tr>\n",
              "  </tbody>\n",
              "</table>\n",
              "</div>"
            ],
            "text/plain": [
              "     views  likes  dislikes comment  published  duration  category\n",
              "0  1031602   8523       363    1095       2168       457         6\n",
              "1     1707     56         2       6       2185       570         4\n",
              "2     2023     25         0       2       2094       136         3\n",
              "3   620860    777       161     153       2119       262         8\n",
              "4      666      1         0       0       2091        31         4"
            ]
          },
          "metadata": {
            "tags": []
          },
          "execution_count": 283
        }
      ]
    },
    {
      "cell_type": "code",
      "metadata": {
        "id": "U_TxUe_I-nxt",
        "outputId": "ac823106-6457-4c5c-82d6-13dc758511d5",
        "colab": {
          "base_uri": "https://localhost:8080/",
          "height": 195
        }
      },
      "source": [
        "data_test.head()"
      ],
      "execution_count": 284,
      "outputs": [
        {
          "output_type": "execute_result",
          "data": {
            "text/html": [
              "<div>\n",
              "<style scoped>\n",
              "    .dataframe tbody tr th:only-of-type {\n",
              "        vertical-align: middle;\n",
              "    }\n",
              "\n",
              "    .dataframe tbody tr th {\n",
              "        vertical-align: top;\n",
              "    }\n",
              "\n",
              "    .dataframe thead th {\n",
              "        text-align: right;\n",
              "    }\n",
              "</style>\n",
              "<table border=\"1\" class=\"dataframe\">\n",
              "  <thead>\n",
              "    <tr style=\"text-align: right;\">\n",
              "      <th></th>\n",
              "      <th>views</th>\n",
              "      <th>likes</th>\n",
              "      <th>dislikes</th>\n",
              "      <th>comment</th>\n",
              "      <th>published</th>\n",
              "      <th>duration</th>\n",
              "      <th>category</th>\n",
              "    </tr>\n",
              "  </thead>\n",
              "  <tbody>\n",
              "    <tr>\n",
              "      <th>0</th>\n",
              "      <td>440238</td>\n",
              "      <td>6153</td>\n",
              "      <td>218</td>\n",
              "      <td>1377</td>\n",
              "      <td>2053</td>\n",
              "      <td>449</td>\n",
              "      <td>2</td>\n",
              "    </tr>\n",
              "    <tr>\n",
              "      <th>1</th>\n",
              "      <td>1040132</td>\n",
              "      <td>8171</td>\n",
              "      <td>340</td>\n",
              "      <td>1047</td>\n",
              "      <td>1825</td>\n",
              "      <td>389</td>\n",
              "      <td>6</td>\n",
              "    </tr>\n",
              "    <tr>\n",
              "      <th>2</th>\n",
              "      <td>28534</td>\n",
              "      <td>31</td>\n",
              "      <td>11</td>\n",
              "      <td>1</td>\n",
              "      <td>1009</td>\n",
              "      <td>2274</td>\n",
              "      <td>4</td>\n",
              "    </tr>\n",
              "    <tr>\n",
              "      <th>3</th>\n",
              "      <td>1316715</td>\n",
              "      <td>2284</td>\n",
              "      <td>250</td>\n",
              "      <td>274</td>\n",
              "      <td>116</td>\n",
              "      <td>595</td>\n",
              "      <td>7</td>\n",
              "    </tr>\n",
              "    <tr>\n",
              "      <th>4</th>\n",
              "      <td>1893173</td>\n",
              "      <td>2519</td>\n",
              "      <td>225</td>\n",
              "      <td>116</td>\n",
              "      <td>1892</td>\n",
              "      <td>188</td>\n",
              "      <td>2</td>\n",
              "    </tr>\n",
              "  </tbody>\n",
              "</table>\n",
              "</div>"
            ],
            "text/plain": [
              "     views  likes  dislikes comment  published  duration  category\n",
              "0   440238   6153       218    1377       2053       449         2\n",
              "1  1040132   8171       340    1047       1825       389         6\n",
              "2    28534     31        11       1       1009      2274         4\n",
              "3  1316715   2284       250     274        116       595         7\n",
              "4  1893173   2519       225     116       1892       188         2"
            ]
          },
          "metadata": {
            "tags": []
          },
          "execution_count": 284
        }
      ]
    },
    {
      "cell_type": "code",
      "metadata": {
        "id": "eOXVDm3H2VC3",
        "outputId": "528ab087-213f-437d-be57-5527f2a6b8a5",
        "colab": {
          "base_uri": "https://localhost:8080/",
          "height": 34
        }
      },
      "source": [
        "from sklearn.model_selection import train_test_split\n",
        "X_train, X_test, y_train, y_test = train_test_split(data_train, Y_train, test_size=0.1, random_state=42)\n",
        "X_train.shape"
      ],
      "execution_count": 285,
      "outputs": [
        {
          "output_type": "execute_result",
          "data": {
            "text/plain": [
              "(13172, 7)"
            ]
          },
          "metadata": {
            "tags": []
          },
          "execution_count": 285
        }
      ]
    },
    {
      "cell_type": "code",
      "metadata": {
        "id": "BWr9EL-C2XiU",
        "outputId": "2b91fb56-184c-48b3-c9d2-2af4f5d1f8df",
        "colab": {
          "base_uri": "https://localhost:8080/",
          "height": 34
        }
      },
      "source": [
        "from sklearn.preprocessing import MinMaxScaler\n",
        "scaler = MinMaxScaler()\n",
        "X_train=scaler.fit_transform(X_train)\n",
        "X_test=scaler.fit_transform(X_test)\n",
        "X_train.mean()"
      ],
      "execution_count": 286,
      "outputs": [
        {
          "output_type": "execute_result",
          "data": {
            "text/plain": [
              "0.1737489810736368"
            ]
          },
          "metadata": {
            "tags": []
          },
          "execution_count": 286
        }
      ]
    },
    {
      "cell_type": "code",
      "metadata": {
        "id": "6ct5MW3K_8sc"
      },
      "source": [
        "# Evaluation Metrics\n",
        "from sklearn import metrics\n",
        "def print_error(X_test, y_test, model_name):\n",
        "  prediction = model_name.predict(X_test)\n",
        "  print('Mean Absolute Error:', metrics.mean_absolute_error(y_test, prediction))\n",
        "  print('Mean Squared Error:', metrics.mean_squared_error(y_test, prediction))\n",
        "  print('Root Mean Squared Error:', np.sqrt(metrics.mean_squared_error(y_test, prediction)))\n"
      ],
      "execution_count": 287,
      "outputs": []
    },
    {
      "cell_type": "code",
      "metadata": {
        "id": "IUrOXGWrAAoE",
        "outputId": "578acfac-a5eb-48a7-a6f3-7bf1573746fa",
        "colab": {
          "base_uri": "https://localhost:8080/",
          "height": 67
        }
      },
      "source": [
        "# Linear Regression\n",
        "from sklearn import linear_model\n",
        "linear_regression = linear_model.LinearRegression()\n",
        "linear_regression.fit(X_train, y_train)\n",
        "print_error(X_test,y_test, linear_regression)\n"
      ],
      "execution_count": 288,
      "outputs": [
        {
          "output_type": "stream",
          "text": [
            "Mean Absolute Error: 3153.47043710617\n",
            "Mean Squared Error: 109384710.11443\n",
            "Root Mean Squared Error: 10458.714553635642\n"
          ],
          "name": "stdout"
        }
      ]
    },
    {
      "cell_type": "code",
      "metadata": {
        "id": "i8hHIAYlAEEV",
        "outputId": "6ed1de51-9700-46b2-e831-0f8c73b66653",
        "colab": {
          "base_uri": "https://localhost:8080/",
          "height": 121
        }
      },
      "source": [
        "# Support Vector Regressor\n",
        "from sklearn.svm import SVR\n",
        "supportvector_regressor = SVR()\n",
        "supportvector_regressor.fit(X_train,y_train)\n",
        "print_error(X_test,y_test, linear_regression)"
      ],
      "execution_count": 289,
      "outputs": [
        {
          "output_type": "stream",
          "text": [
            "/usr/local/lib/python3.6/dist-packages/sklearn/utils/validation.py:760: DataConversionWarning: A column-vector y was passed when a 1d array was expected. Please change the shape of y to (n_samples, ), for example using ravel().\n",
            "  y = column_or_1d(y, warn=True)\n"
          ],
          "name": "stderr"
        },
        {
          "output_type": "stream",
          "text": [
            "Mean Absolute Error: 3153.47043710617\n",
            "Mean Squared Error: 109384710.11443\n",
            "Root Mean Squared Error: 10458.714553635642\n"
          ],
          "name": "stdout"
        }
      ]
    },
    {
      "cell_type": "code",
      "metadata": {
        "id": "GHSxpme3AExs",
        "outputId": "1841a1ba-5a4f-407e-af7d-daa2172ce2e6",
        "colab": {
          "base_uri": "https://localhost:8080/",
          "height": 67
        }
      },
      "source": [
        "# Decision Tree Regressor\n",
        "from sklearn.tree import DecisionTreeRegressor\n",
        "decision_tree = DecisionTreeRegressor()\n",
        "decision_tree.fit(X_train, y_train)\n",
        "print_error(X_test,y_test, decision_tree)\n"
      ],
      "execution_count": 290,
      "outputs": [
        {
          "output_type": "stream",
          "text": [
            "Mean Absolute Error: 2070.217896174863\n",
            "Mean Squared Error: 279016133.10040987\n",
            "Root Mean Squared Error: 16703.77601323754\n"
          ],
          "name": "stdout"
        }
      ]
    },
    {
      "cell_type": "code",
      "metadata": {
        "id": "UElcBN6DBnkb",
        "outputId": "22662894-3c83-467b-93a7-12fec54c0415",
        "colab": {
          "base_uri": "https://localhost:8080/",
          "height": 252
        }
      },
      "source": [
        "data_test=scaler.fit_transform(data_test)\n",
        "Predictions=pd.DataFrame(decision_tree.predict(data_test))\n",
        "print(Predictions)"
      ],
      "execution_count": 291,
      "outputs": [
        {
          "output_type": "stream",
          "text": [
            "         0\n",
            "0      1.0\n",
            "1      4.0\n",
            "2      2.0\n",
            "3     42.0\n",
            "4      6.0\n",
            "...    ...\n",
            "8544  14.0\n",
            "8545   2.0\n",
            "8546  12.0\n",
            "8547   1.0\n",
            "8548  18.0\n",
            "\n",
            "[8549 rows x 1 columns]\n"
          ],
          "name": "stdout"
        }
      ]
    },
    {
      "cell_type": "code",
      "metadata": {
        "id": "xaY9Wz3YJXQ6"
      },
      "source": [
        "Predictions.to_csv(r'Predictions_Submission.csv', index = False)"
      ],
      "execution_count": 292,
      "outputs": []
    },
    {
      "cell_type": "code",
      "metadata": {
        "id": "uZMIkdfeeBvC",
        "outputId": "7a738e2c-dc2c-4aa7-a385-14648fa8014c",
        "colab": {
          "base_uri": "https://localhost:8080/",
          "height": 121
        }
      },
      "source": [
        "# Random Forest Regressor\n",
        "from sklearn.ensemble import RandomForestRegressor\n",
        "n_estimators = 200\n",
        "max_depth = 25\n",
        "min_samples_split=15\n",
        "min_samples_leaf=2\n",
        "random_forest = RandomForestRegressor(n_estimators = n_estimators, max_depth = max_depth, min_samples_split=min_samples_split)\n",
        "random_forest.fit(X_train,y_train)\n",
        "print_error(X_test,y_test, random_forest)"
      ],
      "execution_count": 293,
      "outputs": [
        {
          "output_type": "stream",
          "text": [
            "/usr/local/lib/python3.6/dist-packages/ipykernel_launcher.py:8: DataConversionWarning: A column-vector y was passed when a 1d array was expected. Please change the shape of y to (n_samples,), for example using ravel().\n",
            "  \n"
          ],
          "name": "stderr"
        },
        {
          "output_type": "stream",
          "text": [
            "Mean Absolute Error: 2799.730609689753\n",
            "Mean Squared Error: 162307811.02926168\n",
            "Root Mean Squared Error: 12740.008282150435\n"
          ],
          "name": "stdout"
        }
      ]
    },
    {
      "cell_type": "code",
      "metadata": {
        "id": "eVHUiEWqqf-U"
      },
      "source": [
        "import keras\n",
        "from keras.layers import Dense\n",
        "ann = keras.models.Sequential([\n",
        "Dense(6, activation=\"relu\",\n",
        "input_shape=X_train.shape[1:]),\n",
        "Dense(6,activation=\"relu\"),\n",
        "Dense(1)\n",
        "])\n",
        "optimizer=keras.optimizers.Adam()\n",
        "loss=keras.losses.mean_squared_error\n",
        "ann.compile(optimizer=optimizer,loss=loss,metrics=[\"mean_squared_error\"])"
      ],
      "execution_count": 294,
      "outputs": []
    },
    {
      "cell_type": "code",
      "metadata": {
        "id": "yL5WnihKqhMz",
        "outputId": "ac6665eb-876b-4a44-dccd-40ed76ee57e5",
        "colab": {
          "base_uri": "https://localhost:8080/",
          "height": 1000
        }
      },
      "source": [
        "history=ann.fit(X_train,y_train,epochs=100)\n",
        "ann.summary()\n",
        "print_error(X_test,y_test,ann)\n"
      ],
      "execution_count": 295,
      "outputs": [
        {
          "output_type": "stream",
          "text": [
            "Epoch 1/100\n",
            "412/412 [==============================] - 0s 1ms/step - loss: 855923968.0000 - mean_squared_error: 855923968.0000\n",
            "Epoch 2/100\n",
            "412/412 [==============================] - 0s 1ms/step - loss: 855919104.0000 - mean_squared_error: 855919104.0000\n",
            "Epoch 3/100\n",
            "412/412 [==============================] - 0s 1ms/step - loss: 855906688.0000 - mean_squared_error: 855906688.0000\n",
            "Epoch 4/100\n",
            "412/412 [==============================] - 0s 1ms/step - loss: 855877888.0000 - mean_squared_error: 855877888.0000\n",
            "Epoch 5/100\n",
            "412/412 [==============================] - 0s 1ms/step - loss: 855830208.0000 - mean_squared_error: 855830208.0000\n",
            "Epoch 6/100\n",
            "412/412 [==============================] - 0s 1ms/step - loss: 855762048.0000 - mean_squared_error: 855762048.0000\n",
            "Epoch 7/100\n",
            "412/412 [==============================] - 0s 1ms/step - loss: 855668608.0000 - mean_squared_error: 855668608.0000\n",
            "Epoch 8/100\n",
            "412/412 [==============================] - 0s 975us/step - loss: 855555648.0000 - mean_squared_error: 855555648.0000\n",
            "Epoch 9/100\n",
            "412/412 [==============================] - 0s 1ms/step - loss: 855440768.0000 - mean_squared_error: 855440768.0000\n",
            "Epoch 10/100\n",
            "412/412 [==============================] - 0s 998us/step - loss: 855303936.0000 - mean_squared_error: 855303936.0000\n",
            "Epoch 11/100\n",
            "412/412 [==============================] - 0s 973us/step - loss: 855157568.0000 - mean_squared_error: 855157568.0000\n",
            "Epoch 12/100\n",
            "412/412 [==============================] - 0s 1ms/step - loss: 854999168.0000 - mean_squared_error: 854999168.0000\n",
            "Epoch 13/100\n",
            "412/412 [==============================] - 0s 1ms/step - loss: 854823296.0000 - mean_squared_error: 854823296.0000\n",
            "Epoch 14/100\n",
            "412/412 [==============================] - 0s 1ms/step - loss: 854640064.0000 - mean_squared_error: 854640064.0000\n",
            "Epoch 15/100\n",
            "412/412 [==============================] - 0s 1ms/step - loss: 854456448.0000 - mean_squared_error: 854456448.0000\n",
            "Epoch 16/100\n",
            "412/412 [==============================] - 0s 1ms/step - loss: 854268544.0000 - mean_squared_error: 854268544.0000\n",
            "Epoch 17/100\n",
            "412/412 [==============================] - 0s 1ms/step - loss: 854088704.0000 - mean_squared_error: 854088704.0000\n",
            "Epoch 18/100\n",
            "412/412 [==============================] - 0s 1ms/step - loss: 853913280.0000 - mean_squared_error: 853913280.0000\n",
            "Epoch 19/100\n",
            "412/412 [==============================] - 0s 1ms/step - loss: 853748800.0000 - mean_squared_error: 853748800.0000\n",
            "Epoch 20/100\n",
            "412/412 [==============================] - 0s 1ms/step - loss: 853596672.0000 - mean_squared_error: 853596672.0000\n",
            "Epoch 21/100\n",
            "412/412 [==============================] - 0s 968us/step - loss: 853445312.0000 - mean_squared_error: 853445312.0000\n",
            "Epoch 22/100\n",
            "412/412 [==============================] - 0s 1ms/step - loss: 853310784.0000 - mean_squared_error: 853310784.0000\n",
            "Epoch 23/100\n",
            "412/412 [==============================] - 0s 951us/step - loss: 853183744.0000 - mean_squared_error: 853183744.0000\n",
            "Epoch 24/100\n",
            "412/412 [==============================] - 0s 1ms/step - loss: 853066304.0000 - mean_squared_error: 853066304.0000\n",
            "Epoch 25/100\n",
            "412/412 [==============================] - 0s 1ms/step - loss: 852955136.0000 - mean_squared_error: 852955136.0000\n",
            "Epoch 26/100\n",
            "412/412 [==============================] - 0s 1ms/step - loss: 852857536.0000 - mean_squared_error: 852857536.0000\n",
            "Epoch 27/100\n",
            "412/412 [==============================] - 0s 1ms/step - loss: 852763264.0000 - mean_squared_error: 852763264.0000\n",
            "Epoch 28/100\n",
            "412/412 [==============================] - 0s 947us/step - loss: 852686080.0000 - mean_squared_error: 852686080.0000\n",
            "Epoch 29/100\n",
            "412/412 [==============================] - 0s 1ms/step - loss: 852616448.0000 - mean_squared_error: 852616448.0000\n",
            "Epoch 30/100\n",
            "412/412 [==============================] - 0s 1ms/step - loss: 852551040.0000 - mean_squared_error: 852551040.0000\n",
            "Epoch 31/100\n",
            "412/412 [==============================] - 0s 970us/step - loss: 852490304.0000 - mean_squared_error: 852490304.0000\n",
            "Epoch 32/100\n",
            "412/412 [==============================] - 0s 1ms/step - loss: 852438336.0000 - mean_squared_error: 852438336.0000\n",
            "Epoch 33/100\n",
            "412/412 [==============================] - 0s 973us/step - loss: 852387776.0000 - mean_squared_error: 852387776.0000\n",
            "Epoch 34/100\n",
            "412/412 [==============================] - 0s 1ms/step - loss: 852345472.0000 - mean_squared_error: 852345472.0000\n",
            "Epoch 35/100\n",
            "412/412 [==============================] - 0s 959us/step - loss: 852301952.0000 - mean_squared_error: 852301952.0000\n",
            "Epoch 36/100\n",
            "412/412 [==============================] - 0s 1ms/step - loss: 852263744.0000 - mean_squared_error: 852263744.0000\n",
            "Epoch 37/100\n",
            "412/412 [==============================] - 0s 1ms/step - loss: 852227008.0000 - mean_squared_error: 852227008.0000\n",
            "Epoch 38/100\n",
            "412/412 [==============================] - 0s 1ms/step - loss: 852198592.0000 - mean_squared_error: 852198592.0000\n",
            "Epoch 39/100\n",
            "412/412 [==============================] - 0s 1ms/step - loss: 852165760.0000 - mean_squared_error: 852165760.0000\n",
            "Epoch 40/100\n",
            "412/412 [==============================] - 0s 1ms/step - loss: 852138496.0000 - mean_squared_error: 852138496.0000\n",
            "Epoch 41/100\n",
            "412/412 [==============================] - 0s 1ms/step - loss: 852112064.0000 - mean_squared_error: 852112064.0000\n",
            "Epoch 42/100\n",
            "412/412 [==============================] - 0s 956us/step - loss: 852084224.0000 - mean_squared_error: 852084224.0000\n",
            "Epoch 43/100\n",
            "412/412 [==============================] - 0s 963us/step - loss: 852057344.0000 - mean_squared_error: 852057344.0000\n",
            "Epoch 44/100\n",
            "412/412 [==============================] - 0s 1ms/step - loss: 852034816.0000 - mean_squared_error: 852034816.0000\n",
            "Epoch 45/100\n",
            "412/412 [==============================] - 0s 1ms/step - loss: 852005568.0000 - mean_squared_error: 852005568.0000\n",
            "Epoch 46/100\n",
            "412/412 [==============================] - 0s 1ms/step - loss: 851984640.0000 - mean_squared_error: 851984640.0000\n",
            "Epoch 47/100\n",
            "412/412 [==============================] - 0s 1ms/step - loss: 851958080.0000 - mean_squared_error: 851958080.0000\n",
            "Epoch 48/100\n",
            "412/412 [==============================] - 0s 967us/step - loss: 851934912.0000 - mean_squared_error: 851934912.0000\n",
            "Epoch 49/100\n",
            "412/412 [==============================] - 0s 1ms/step - loss: 851911488.0000 - mean_squared_error: 851911488.0000\n",
            "Epoch 50/100\n",
            "412/412 [==============================] - 0s 999us/step - loss: 851892352.0000 - mean_squared_error: 851892352.0000\n",
            "Epoch 51/100\n",
            "412/412 [==============================] - 0s 1ms/step - loss: 851866048.0000 - mean_squared_error: 851866048.0000\n",
            "Epoch 52/100\n",
            "412/412 [==============================] - 0s 1ms/step - loss: 851841600.0000 - mean_squared_error: 851841600.0000\n",
            "Epoch 53/100\n",
            "412/412 [==============================] - 0s 963us/step - loss: 851820736.0000 - mean_squared_error: 851820736.0000\n",
            "Epoch 54/100\n",
            "412/412 [==============================] - 0s 1ms/step - loss: 851794944.0000 - mean_squared_error: 851794944.0000\n",
            "Epoch 55/100\n",
            "412/412 [==============================] - 0s 1ms/step - loss: 851769600.0000 - mean_squared_error: 851769600.0000\n",
            "Epoch 56/100\n",
            "412/412 [==============================] - 0s 1ms/step - loss: 851743808.0000 - mean_squared_error: 851743808.0000\n",
            "Epoch 57/100\n",
            "412/412 [==============================] - 0s 1ms/step - loss: 851722816.0000 - mean_squared_error: 851722816.0000\n",
            "Epoch 58/100\n",
            "412/412 [==============================] - 0s 966us/step - loss: 851693696.0000 - mean_squared_error: 851693696.0000\n",
            "Epoch 59/100\n",
            "412/412 [==============================] - 0s 1ms/step - loss: 851669248.0000 - mean_squared_error: 851669248.0000\n",
            "Epoch 60/100\n",
            "412/412 [==============================] - 0s 1ms/step - loss: 851647872.0000 - mean_squared_error: 851647872.0000\n",
            "Epoch 61/100\n",
            "412/412 [==============================] - 0s 1ms/step - loss: 851621760.0000 - mean_squared_error: 851621760.0000\n",
            "Epoch 62/100\n",
            "412/412 [==============================] - 0s 970us/step - loss: 851594240.0000 - mean_squared_error: 851594240.0000\n",
            "Epoch 63/100\n",
            "412/412 [==============================] - 0s 1ms/step - loss: 851573312.0000 - mean_squared_error: 851573312.0000\n",
            "Epoch 64/100\n",
            "412/412 [==============================] - 0s 1ms/step - loss: 851546176.0000 - mean_squared_error: 851546176.0000\n",
            "Epoch 65/100\n",
            "412/412 [==============================] - 0s 1ms/step - loss: 851527168.0000 - mean_squared_error: 851527168.0000\n",
            "Epoch 66/100\n",
            "412/412 [==============================] - 0s 956us/step - loss: 851497152.0000 - mean_squared_error: 851497152.0000\n",
            "Epoch 67/100\n",
            "412/412 [==============================] - 0s 1ms/step - loss: 851474816.0000 - mean_squared_error: 851474816.0000\n",
            "Epoch 68/100\n",
            "412/412 [==============================] - 0s 1ms/step - loss: 851445312.0000 - mean_squared_error: 851445312.0000\n",
            "Epoch 69/100\n",
            "412/412 [==============================] - 0s 1ms/step - loss: 851421184.0000 - mean_squared_error: 851421184.0000\n",
            "Epoch 70/100\n",
            "412/412 [==============================] - 0s 1ms/step - loss: 851401280.0000 - mean_squared_error: 851401280.0000\n",
            "Epoch 71/100\n",
            "412/412 [==============================] - 0s 1ms/step - loss: 851368896.0000 - mean_squared_error: 851368896.0000\n",
            "Epoch 72/100\n",
            "412/412 [==============================] - 0s 992us/step - loss: 851345024.0000 - mean_squared_error: 851345024.0000\n",
            "Epoch 73/100\n",
            "412/412 [==============================] - 0s 1ms/step - loss: 851320320.0000 - mean_squared_error: 851320320.0000\n",
            "Epoch 74/100\n",
            "412/412 [==============================] - 0s 979us/step - loss: 851295296.0000 - mean_squared_error: 851295296.0000\n",
            "Epoch 75/100\n",
            "412/412 [==============================] - 0s 1ms/step - loss: 851269696.0000 - mean_squared_error: 851269696.0000\n",
            "Epoch 76/100\n",
            "412/412 [==============================] - 0s 1ms/step - loss: 851247744.0000 - mean_squared_error: 851247744.0000\n",
            "Epoch 77/100\n",
            "412/412 [==============================] - 0s 1ms/step - loss: 851219456.0000 - mean_squared_error: 851219456.0000\n",
            "Epoch 78/100\n",
            "412/412 [==============================] - 0s 977us/step - loss: 851195264.0000 - mean_squared_error: 851195264.0000\n",
            "Epoch 79/100\n",
            "412/412 [==============================] - 0s 951us/step - loss: 851178944.0000 - mean_squared_error: 851178944.0000\n",
            "Epoch 80/100\n",
            "412/412 [==============================] - 0s 956us/step - loss: 851150656.0000 - mean_squared_error: 851150656.0000\n",
            "Epoch 81/100\n",
            "412/412 [==============================] - 0s 1ms/step - loss: 851125696.0000 - mean_squared_error: 851125696.0000\n",
            "Epoch 82/100\n",
            "412/412 [==============================] - 0s 961us/step - loss: 851104448.0000 - mean_squared_error: 851104448.0000\n",
            "Epoch 83/100\n",
            "412/412 [==============================] - 0s 1ms/step - loss: 851077824.0000 - mean_squared_error: 851077824.0000\n",
            "Epoch 84/100\n",
            "412/412 [==============================] - 0s 1ms/step - loss: 851058752.0000 - mean_squared_error: 851058752.0000\n",
            "Epoch 85/100\n",
            "412/412 [==============================] - 0s 1ms/step - loss: 851032960.0000 - mean_squared_error: 851032960.0000\n",
            "Epoch 86/100\n",
            "412/412 [==============================] - 0s 957us/step - loss: 851010752.0000 - mean_squared_error: 851010752.0000\n",
            "Epoch 87/100\n",
            "412/412 [==============================] - 0s 1ms/step - loss: 850992576.0000 - mean_squared_error: 850992576.0000\n",
            "Epoch 88/100\n",
            "412/412 [==============================] - 0s 1ms/step - loss: 850973696.0000 - mean_squared_error: 850973696.0000\n",
            "Epoch 89/100\n",
            "412/412 [==============================] - 0s 1ms/step - loss: 850942080.0000 - mean_squared_error: 850942080.0000\n",
            "Epoch 90/100\n",
            "412/412 [==============================] - 0s 1ms/step - loss: 850924864.0000 - mean_squared_error: 850924864.0000\n",
            "Epoch 91/100\n",
            "412/412 [==============================] - 0s 1ms/step - loss: 850902400.0000 - mean_squared_error: 850902400.0000\n",
            "Epoch 92/100\n",
            "412/412 [==============================] - 0s 960us/step - loss: 850881664.0000 - mean_squared_error: 850881664.0000\n",
            "Epoch 93/100\n",
            "412/412 [==============================] - 0s 1ms/step - loss: 850864960.0000 - mean_squared_error: 850864960.0000\n",
            "Epoch 94/100\n",
            "412/412 [==============================] - 0s 1ms/step - loss: 850843776.0000 - mean_squared_error: 850843776.0000\n",
            "Epoch 95/100\n",
            "412/412 [==============================] - 0s 1ms/step - loss: 850821824.0000 - mean_squared_error: 850821824.0000\n",
            "Epoch 96/100\n",
            "412/412 [==============================] - 0s 1ms/step - loss: 850800192.0000 - mean_squared_error: 850800192.0000\n",
            "Epoch 97/100\n",
            "412/412 [==============================] - 0s 1ms/step - loss: 850781248.0000 - mean_squared_error: 850781248.0000\n",
            "Epoch 98/100\n",
            "412/412 [==============================] - 0s 972us/step - loss: 850762176.0000 - mean_squared_error: 850762176.0000\n",
            "Epoch 99/100\n",
            "412/412 [==============================] - 0s 1ms/step - loss: 850750336.0000 - mean_squared_error: 850750336.0000\n",
            "Epoch 100/100\n",
            "412/412 [==============================] - 0s 1ms/step - loss: 850724480.0000 - mean_squared_error: 850724480.0000\n",
            "Model: \"sequential_3\"\n",
            "_________________________________________________________________\n",
            "Layer (type)                 Output Shape              Param #   \n",
            "=================================================================\n",
            "dense_9 (Dense)              (None, 6)                 48        \n",
            "_________________________________________________________________\n",
            "dense_10 (Dense)             (None, 6)                 42        \n",
            "_________________________________________________________________\n",
            "dense_11 (Dense)             (None, 1)                 7         \n",
            "=================================================================\n",
            "Total params: 97\n",
            "Trainable params: 97\n",
            "Non-trainable params: 0\n",
            "_________________________________________________________________\n",
            "Mean Absolute Error: 2613.139878259005\n",
            "Mean Squared Error: 102268238.91516171\n",
            "Root Mean Squared Error: 10112.776024176632\n"
          ],
          "name": "stdout"
        }
      ]
    },
    {
      "cell_type": "code",
      "metadata": {
        "id": "q9Mp4ES0qkTj"
      },
      "source": [
        "import joblib\n",
        "joblib.dump(decision_tree, \"decisiontree_youtubeadview.pkl\")\n",
        "# Saving Keras Artificial Neural Network model\n",
        "ann.save(\"ann_youtubeadview.h5\")"
      ],
      "execution_count": 296,
      "outputs": []
    },
    {
      "cell_type": "code",
      "metadata": {
        "id": "VBZryH1oqrpS"
      },
      "source": [
        ""
      ],
      "execution_count": 296,
      "outputs": []
    }
  ]
}